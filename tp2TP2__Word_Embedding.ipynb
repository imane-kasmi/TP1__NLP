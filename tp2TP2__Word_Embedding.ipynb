{
  "nbformat": 4,
  "nbformat_minor": 0,
  "metadata": {
    "colab": {
      "provenance": []
    },
    "kernelspec": {
      "name": "python3",
      "display_name": "Python 3"
    },
    "language_info": {
      "name": "python"
    }
  },
  "cells": [
    {
      "cell_type": "code",
      "execution_count": 1,
      "metadata": {
        "colab": {
          "base_uri": "https://localhost:8080/"
        },
        "id": "vnS2r9txiw7w",
        "outputId": "4e4ac30d-17e6-4f0d-cad9-52d57482f930"
      },
      "outputs": [
        {
          "output_type": "stream",
          "name": "stderr",
          "text": [
            "[nltk_data] Downloading package punkt to /root/nltk_data...\n",
            "[nltk_data]   Unzipping tokenizers/punkt.zip.\n"
          ]
        },
        {
          "output_type": "stream",
          "name": "stdout",
          "text": [
            "Représentation vectorielle de 'Morocco': [-1.09652719e-02  1.18721221e-02  5.16662234e-03  9.08523425e-03\n",
            "  6.73954003e-03 -2.06100894e-03  1.20808231e-02  3.57543211e-03\n",
            " -1.06655695e-02  2.51640240e-03  3.06072296e-03 -7.71386409e-03\n",
            "  9.24124289e-03 -2.83164810e-03  9.00438428e-03 -4.17083036e-03\n",
            " -5.73671004e-03 -4.42431821e-03 -9.59347654e-03 -1.03134746e-02\n",
            "  3.02539149e-04  9.28163528e-03  1.19566908e-02 -8.15395452e-03\n",
            "  4.22319397e-03  9.27088491e-04 -2.36876914e-03 -1.11507028e-02\n",
            " -3.05875973e-03 -8.76428187e-03  1.02235731e-02 -5.00921393e-03\n",
            "  7.04664411e-03  7.83340912e-03 -2.53248028e-03  8.59213527e-03\n",
            " -1.02584041e-03  4.33765166e-03  5.35597443e-04 -1.42059391e-02\n",
            " -3.15164006e-03  8.44427850e-04 -1.36202830e-03 -8.75433150e-04\n",
            "  2.75163841e-03 -1.11769815e-03  1.21745991e-03  2.79849954e-03\n",
            " -4.10958286e-03 -3.26256012e-03  3.46043776e-03 -2.22937274e-03\n",
            " -1.06681476e-03 -5.05033042e-03  1.27269397e-03 -1.37968527e-05\n",
            "  1.99844898e-03 -2.66852992e-04  4.08526830e-04 -6.20790711e-03\n",
            " -4.48460318e-03 -4.48203506e-03  1.25536369e-02 -2.95448722e-03\n",
            " -1.42835090e-02  2.23757327e-03  1.02697915e-04  1.10306749e-02\n",
            " -1.58086978e-02  7.35788792e-03 -1.09504554e-02  3.94459534e-03\n",
            "  9.02851019e-03  7.16139982e-03 -3.39324493e-03 -1.98323512e-03\n",
            " -7.20207347e-03 -7.32150860e-03 -1.34942541e-02 -1.51277141e-04\n",
            " -1.22506730e-03 -6.32505910e-03  2.18928023e-03  4.81702341e-03\n",
            "  3.05089215e-03  7.55398243e-04  1.88903278e-03 -3.19945463e-03\n",
            "  1.37586007e-03  3.02955508e-03 -1.24078523e-03  3.61564639e-03\n",
            "  3.96063831e-03 -1.79121876e-03  1.71610489e-02  1.27135683e-02\n",
            "  4.92201140e-03  5.03855851e-03  5.03249047e-03 -7.94786122e-03]\n",
            "Similarité entre 'Morocco' et 'Marrakech': 0.3297346\n",
            "Mots contextuels pour 'Morocco': [('and', 0.528860330581665), (',', 0.41061994433403015), ('like', 0.38920852541923523), ('.', 0.38092049956321716), ('does', 0.3709244132041931), ('a', 0.3560265302658081), ('tapestry', 0.3438308537006378), ('time', 0.3347426950931549), ('trees', 0.33401310443878174), ('the', 0.3322989046573639)]\n"
          ]
        }
      ],
      "source": [
        "from gensim.models import Word2Vec\n",
        "from nltk.tokenize import word_tokenize\n",
        "import nltk\n",
        "nltk.download('punkt')\n",
        "\n",
        "# Texte donné\n",
        "text = \"Morocco and Marrakech: A Tapestry of Tradition and Modernity Morocco, located at the crossroads of Europe and Africa, is a country drenched in history, mystery, and cultural richness. A testament to the ancient civilizations that once flourished here, this North African kingdom boasts a unique blend of Arab, Berber, and European influences. At the heart of Morocco's rich tapestry lies Marrakech, one of its four imperial cities and a vibrant epicenter of tradition and modernity. Geographical Significance Morocco is bordered by the Atlantic Ocean to the west, the Mediterranean Sea to the north, Algeria to the east and southeast, and the vast Sahara desert to the south. Its strategic location has historically made it a sought-after territory and a melting pot of cultures, religions, and trade routes. Marrakech: The Red City Marrakech, often referred to as 'The Red City' due to its distinctive red-hued buildings, stands against the backdrop of the snow-capped Atlas Mountains. Established in the 11th century, it has remained a crucial political, economic, and cultural center of Morocco. Journey through the Medina Marrakech's old town, the Medina, is a UNESCO World Heritage site and a labyrinthine maze of narrow alleys, bustling souks, and historical landmarks. The Djemaa el-Fna Square lies at the heart of the Medina and comes alive every evening with storytellers, musicians, snake charmers, and food stalls offering tantalizing Moroccan delicacies. Palaces and Gardens The city is also home to grand palaces like the Bahia Palace, showcasing intricate Islamic architecture, and the Saadian Tombs, remnants of the Saadian dynasty. The Majorelle Garden, restored by the fashion designer Yves Saint Laurent, is a tranquil oasis of cacti, palm trees, and cobalt blue accents. Modern Marrakech While tradition and history permeate Marrakech, the city is not averse to the modern world. Gueliz, the new town, is brimming with contemporary art galleries, stylish cafes, and chic boutiques, offering a stark contrast to the ancient Medina. Moroccan Cuisine No journey through Morocco and Marrakech would be complete without indulging in the local cuisine. Tagines, couscous, and pastilla are just a few of the many dishes that combine a plethora of flavors and spices like saffron, cumin, and mint. Paired with Moroccan mint tea, the culinary experience is truly unparalleled. In Conclusion Morocco, with Marrakech at its heart, offers travelers an unparalleled journey through time. The convergence of history, culture, architecture, and gastronomy makes it an enthralling destination for those seeking both adventure and reflection. As the Moroccan proverb goes, 'He who does not travel does not know the value of men.' In the case of Morocco and Marrakech, it's not just the value of men, but also the value of time, tradition, and tales that have spanned centuries.\"\n",
        "\n",
        "# Tokenisation du texte en mots\n",
        "tokens = word_tokenize(text.lower())\n",
        "\n",
        "# Entraînement du modèle word2vec\n",
        "model = Word2Vec([tokens], min_count=1, vector_size=100, window=5, sg=1)\n",
        "\n",
        "# 1. Représentation vectorielle d'un mot\n",
        "word_vector = model.wv['morocco']\n",
        "print(\"Représentation vectorielle de 'Morocco':\", word_vector)\n",
        "\n",
        "# 2. Similarité entre deux mots\n",
        "similarity = model.wv.similarity('morocco', 'marrakech')\n",
        "print(\"Similarité entre 'Morocco' et 'Marrakech':\", similarity)\n",
        "\n",
        "# 3. Mots contextuels pour un mot donné\n",
        "context_words = model.wv.most_similar('morocco')\n",
        "print(\"Mots contextuels pour 'Morocco':\", context_words)"
      ]
    }
  ]
}